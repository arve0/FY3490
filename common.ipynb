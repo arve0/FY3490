{
 "metadata": {
  "name": "",
  "signature": "sha256:272c25f502e7b78eb960a096fb43bbb98026b8b1c0bcd3f49c7f5a2f4266442d"
 },
 "nbformat": 3,
 "nbformat_minor": 0,
 "worksheets": [
  {
   "cells": [
    {
     "cell_type": "heading",
     "level": 1,
     "metadata": {},
     "source": [
      "Common code for image processing"
     ]
    },
    {
     "cell_type": "markdown",
     "metadata": {},
     "source": [
      "Run this file\n",
      "```\n",
      "%run path/common.ipynb\n",
      "```\n",
      "to get matplotlib, scipy, numpy and tifffile imported. Also some commonly used functions are defined."
     ]
    },
    {
     "cell_type": "heading",
     "level": 2,
     "metadata": {},
     "source": [
      "Imports"
     ]
    },
    {
     "cell_type": "code",
     "collapsed": false,
     "input": [
      "from __future__ import division\n",
      "%pylab inline\n",
      "from scipy import ndimage\n",
      "from tifffile import imread, imsave, imshow"
     ],
     "language": "python",
     "metadata": {},
     "outputs": [
      {
       "output_type": "stream",
       "stream": "stdout",
       "text": [
        "Populating the interactive namespace from numpy and matplotlib\n"
       ]
      },
      {
       "output_type": "stream",
       "stream": "stderr",
       "text": [
        "/Users/arve/Dokumenter/git/python3-env/tifffile.py:156: UserWarning: failed to import the optional _tifffile C extension module.\n",
        "Loading of some compressed images will be slow.\n",
        "Tifffile.c can be obtained at http://www.lfd.uci.edu/~gohlke/\n",
        "  \"failed to import the optional _tifffile C extension module.\\n\"\n"
       ]
      }
     ],
     "prompt_number": 1
    },
    {
     "cell_type": "heading",
     "level": 2,
     "metadata": {},
     "source": [
      "Settings matplotlib"
     ]
    },
    {
     "cell_type": "code",
     "collapsed": false,
     "input": [
      "# font size\n",
      "matplotlib.rcParams.update({'font.size': 16})"
     ],
     "language": "python",
     "metadata": {},
     "outputs": [],
     "prompt_number": 5
    },
    {
     "cell_type": "heading",
     "level": 2,
     "metadata": {},
     "source": [
      "Monkey patch numpy fft with pyfftw"
     ]
    },
    {
     "cell_type": "code",
     "collapsed": false,
     "input": [
      "import pyfftw\n",
      "fft2 = pyfftw.interfaces.numpy_fft.fft2\n",
      "ifft2 = pyfftw.interfaces.numpy_fft.ifft2"
     ],
     "language": "python",
     "metadata": {},
     "outputs": [],
     "prompt_number": 13
    },
    {
     "cell_type": "heading",
     "level": 3,
     "metadata": {},
     "source": [
      "Widgets"
     ]
    },
    {
     "cell_type": "markdown",
     "metadata": {},
     "source": [
      "Use with:\n",
      "```\n",
      "def f(var1, var2, ...):\n",
      "    # do something with variables\n",
      "\n",
      "interact(f, var1=(start,stop,step), var2=True, var3=3, ...)\n",
      "```\n",
      "See [using interact](../Using Interact.ipynb) for more."
     ]
    },
    {
     "cell_type": "code",
     "collapsed": false,
     "input": [
      "from IPython.html.widgets import interact"
     ],
     "language": "python",
     "metadata": {},
     "outputs": [],
     "prompt_number": 3
    },
    {
     "cell_type": "heading",
     "level": 2,
     "metadata": {},
     "source": [
      "Implemented algoritm and often used functions"
     ]
    },
    {
     "cell_type": "heading",
     "level": 3,
     "metadata": {},
     "source": [
      "Show gray-image shorthand"
     ]
    },
    {
     "cell_type": "code",
     "collapsed": false,
     "input": [
      "def gimshow(img, size=(12,12), title=''):\n",
      "    \"Shows grayscale image.\"\n",
      "    fig = figure(figsize=size)\n",
      "    imshow(img, cmap='gray', title=title, figure=fig)"
     ],
     "language": "python",
     "metadata": {},
     "outputs": [],
     "prompt_number": 4
    },
    {
     "cell_type": "heading",
     "level": 3,
     "metadata": {},
     "source": [
      "Show histogram shorthand"
     ]
    },
    {
     "cell_type": "code",
     "collapsed": false,
     "input": [
      "def histshow(img, tit='Levels in image'):\n",
      "    \"Shows a histogram figure of image.\"\n",
      "    hist = np.bincount(img.flatten())\n",
      "    figure(figsize=(12,12))\n",
      "    title(tit)\n",
      "    xlim((0, hist.size))\n",
      "    plot(hist)\n",
      "showhist = histshow"
     ],
     "language": "python",
     "metadata": {},
     "outputs": [],
     "prompt_number": 3
    },
    {
     "cell_type": "heading",
     "level": 3,
     "metadata": {},
     "source": [
      "Histogram equalization"
     ]
    },
    {
     "cell_type": "markdown",
     "metadata": {},
     "source": [
      "Histogram equalization algoritm, for improving detail in image."
     ]
    },
    {
     "cell_type": "code",
     "collapsed": false,
     "input": [
      "def equalization(img):\n",
      "    \"Return histogram equaliated image.\"\n",
      "    hist = np.bincount(img.flatten())\n",
      "    cdf = (hist / img.size).cumsum()\n",
      "    equal_img = np.zeros(img.shape, dtype=np.uint8)\n",
      "    for level in range(1,256): # exclude zeroes\n",
      "        if hist[level] == 0: continue # short cut\n",
      "        mask = (img == level)\n",
      "        equal_img[mask] = cdf[level] * 255\n",
      "    return equal_img"
     ],
     "language": "python",
     "metadata": {},
     "outputs": [],
     "prompt_number": 6
    },
    {
     "cell_type": "heading",
     "level": 3,
     "metadata": {},
     "source": [
      "Smoothing"
     ]
    },
    {
     "cell_type": "markdown",
     "metadata": {},
     "source": [
      "Function which smooth image with convolution.\n",
      "\n",
      "#### Note about impletation ####\n",
      "Some fractions are impossible to store accurate in binary (and also other number systems). Here is one example:\n",
      "\n",
      "$1/9 = (0.1111...)_{10}$\n",
      "$ = (0.000111000111...)_2$\n",
      "$ = (0.1)_3$\n",
      "\n",
      "Which is the normalization used for 3x3 mask. Since np.convolute is linear, a rounding error will prevail. Therefor we add 1e-12 to all cells accomodate for this, assuming steps (normalize constant) are far above 1e-12."
     ]
    },
    {
     "cell_type": "code",
     "collapsed": false,
     "input": [
      "def smooth(img, size=3):\n",
      "    \"\"\"\n",
      "    Smooths image by convolution. Default mask is 3x3.\n",
      "    \n",
      "    Variables\n",
      "    ---------\n",
      "    img : ndarray\n",
      "        Input image to smooth.\n",
      "    size : int\n",
      "        Size of square smoothing mask. Should be 2n+1.\n",
      "        \n",
      "    Returns\n",
      "    -------\n",
      "    result : ndarray\n",
      "        Smoothed image.\n",
      "    \"\"\"\n",
      "    mask = np.ones((size,size))\n",
      "    mask /= mask.sum() #normalize\n",
      "    return ndimage.convolve(img+1e-12, mask).astype(np.uint8)"
     ],
     "language": "python",
     "metadata": {},
     "outputs": [],
     "prompt_number": 7
    },
    {
     "cell_type": "heading",
     "level": 3,
     "metadata": {},
     "source": [
      "Median smoothing"
     ]
    },
    {
     "cell_type": "code",
     "collapsed": false,
     "input": [
      "def msmooth(img, size=3):\n",
      "    \"\"\"\n",
      "    Smooths image by median convolution. Default mask is 3x3.\n",
      "    \n",
      "        Variables\n",
      "    ---------\n",
      "    img : ndarray\n",
      "        Input image to smooth.\n",
      "    size : int\n",
      "        Size of square smoothing mask. Should be 2n+1.\n",
      "        \n",
      "    Returns\n",
      "    -------\n",
      "    result : ndarray\n",
      "        Smoothed image.\n",
      "    \"\"\"\n",
      "    return ndimage.median_filter(img, size)"
     ],
     "language": "python",
     "metadata": {},
     "outputs": [],
     "prompt_number": 8
    },
    {
     "cell_type": "heading",
     "level": 3,
     "metadata": {},
     "source": [
      "Scale image"
     ]
    },
    {
     "cell_type": "markdown",
     "metadata": {},
     "source": [
      "As defined in 2.6-10 and 2.6-11 in GW page 79. "
     ]
    },
    {
     "cell_type": "code",
     "collapsed": false,
     "input": [
      "def scale(img):\n",
      "    \"Scales intensities in image to span whole intensity range (0-255).\"\n",
      "    s = np.copy(img).astype(np.float)\n",
      "    s -= s.min()\n",
      "    s *= 255 / s.max()\n",
      "    return s.astype(np.uint8)"
     ],
     "language": "python",
     "metadata": {},
     "outputs": [],
     "prompt_number": 9
    },
    {
     "cell_type": "heading",
     "level": 3,
     "metadata": {},
     "source": [
      "Show spectrum of fourier image"
     ]
    },
    {
     "cell_type": "markdown",
     "metadata": {},
     "source": [
      "Show image of spectrum of an fourier image."
     ]
    },
    {
     "cell_type": "code",
     "collapsed": false,
     "input": [
      "def specshow(img):\n",
      "    \"Shows an image of the spectrum to an fourier image.\"\n",
      "    gimshow(log(abs(fftshift(img))))"
     ],
     "language": "python",
     "metadata": {},
     "outputs": [],
     "prompt_number": 10
    }
   ],
   "metadata": {}
  }
 ]
}