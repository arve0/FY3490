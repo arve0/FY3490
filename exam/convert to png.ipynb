{
 "metadata": {
  "name": "",
  "signature": "sha256:bb7c907b6b1f214c005ec47f3daef531d8b4b7a0c421ce2f28d76dc881207733"
 },
 "nbformat": 3,
 "nbformat_minor": 0,
 "worksheets": [
  {
   "cells": [
    {
     "cell_type": "markdown",
     "metadata": {},
     "source": [
      "Save some bytes in the repo"
     ]
    },
    {
     "cell_type": "code",
     "collapsed": false,
     "input": [
      "from skimage.io import imsave\n",
      "from tifffile import imread\n",
      "from glob import glob\n",
      "\n",
      "files = glob('*.tif')\n",
      "files"
     ],
     "language": "python",
     "metadata": {},
     "outputs": [
      {
       "metadata": {},
       "output_type": "pyout",
       "prompt_number": 1,
       "text": [
        "['1_66500.tif',\n",
        " '1_66501.tif',\n",
        " '1_66502.tif',\n",
        " '1_66503.tif',\n",
        " '1_66504.tif',\n",
        " '1_66505.tif',\n",
        " '1_66506.tif',\n",
        " '1_66507.tif',\n",
        " '1_66508.tif',\n",
        " '1_66509.tif',\n",
        " '1_66510.tif',\n",
        " '1_66511.tif',\n",
        " '1_66512.tif',\n",
        " '1_66513.tif',\n",
        " '1_66514.tif',\n",
        " '1_66515.tif',\n",
        " '1_88100.tif',\n",
        " '1_88101.tif',\n",
        " '1_88102.tif',\n",
        " '1_88103.tif',\n",
        " '1_88104.tif',\n",
        " '1_88105.tif',\n",
        " '1_88106.tif',\n",
        " '1_88107.tif',\n",
        " '1_88108.tif',\n",
        " '1_88109.tif',\n",
        " '1_88110.tif',\n",
        " '1_88111.tif',\n",
        " '1_88112.tif',\n",
        " '1_88113.tif',\n",
        " '1_88114.tif',\n",
        " '1_88115.tif',\n",
        " '1_88116.tif',\n",
        " '1_88117.tif',\n",
        " '1_88118.tif',\n",
        " '1_88119.tif',\n",
        " '1_88120.tif',\n",
        " '1_88121.tif',\n",
        " '1_88122.tif',\n",
        " '1_88123.tif',\n",
        " '1_88124.tif',\n",
        " '1_88125.tif',\n",
        " '1_88126.tif',\n",
        " '1_88127.tif',\n",
        " '1_88128.tif',\n",
        " '1_88129.tif',\n",
        " '1_88130.tif',\n",
        " '2_66500.tif',\n",
        " '2_66501.tif',\n",
        " '2_66502.tif',\n",
        " '2_66503.tif',\n",
        " '2_66504.tif',\n",
        " '2_66505.tif',\n",
        " '2_66506.tif',\n",
        " '2_66507.tif',\n",
        " '2_66508.tif',\n",
        " '2_66509.tif',\n",
        " '2_66510.tif',\n",
        " '2_88100.tif',\n",
        " '2_88101.tif',\n",
        " '2_88102.tif',\n",
        " '2_88103.tif',\n",
        " '2_88104.tif',\n",
        " '2_88105.tif',\n",
        " '2_88106.tif',\n",
        " '2_88107.tif',\n",
        " '2_88108.tif',\n",
        " '2_88109.tif',\n",
        " '2_88110.tif',\n",
        " '2_88111.tif',\n",
        " '2_88112.tif',\n",
        " '2_88113.tif',\n",
        " '2_88114.tif',\n",
        " '2_88115.tif',\n",
        " '2_88116.tif',\n",
        " '2_88117.tif']"
       ]
      }
     ],
     "prompt_number": 1
    },
    {
     "cell_type": "code",
     "collapsed": false,
     "input": [
      "for f in files:\n",
      "    new_name = f.replace('.tif', '.png')\n",
      "    imsave(new_name, imread(f))"
     ],
     "language": "python",
     "metadata": {},
     "outputs": [],
     "prompt_number": 2
    },
    {
     "cell_type": "code",
     "collapsed": false,
     "input": [
      "!rm *.tif"
     ],
     "language": "python",
     "metadata": {},
     "outputs": [],
     "prompt_number": 3
    }
   ],
   "metadata": {}
  }
 ]
}