{
 "metadata": {
  "name": "",
  "signature": "sha256:70cf568318cba47cbcc4e2b3c63a63e3cfa591b99f72df2c32952956e36c166d"
 },
 "nbformat": 3,
 "nbformat_minor": 0,
 "worksheets": [
  {
   "cells": [
    {
     "cell_type": "code",
     "collapsed": false,
     "input": [
      "%pylab inline\n",
      "from skimage import morphology\n",
      "\n",
      "plt.rcParams['image.interpolation'] = 'none'"
     ],
     "language": "python",
     "metadata": {},
     "outputs": [
      {
       "output_type": "stream",
       "stream": "stdout",
       "text": [
        "Populating the interactive namespace from numpy and matplotlib\n"
       ]
      }
     ],
     "prompt_number": 5
    },
    {
     "cell_type": "code",
     "collapsed": false,
     "input": [
      "img = np.zeros((100,100))\n",
      "img[10,10] = 1\n",
      "img[50,54] = 1\n",
      "img[54,50] = 1\n",
      "img[20,80] = 1\n",
      "img[80,20] = 1\n",
      "img[90,80] = 1\n",
      "\n",
      "imshow(img);"
     ],
     "language": "python",
     "metadata": {},
     "outputs": [
      {
       "metadata": {},
       "output_type": "display_data",
       "png": "[encoded data removed]",
       "text": [
        "<matplotlib.figure.Figure at 0x1068020b8>"
       ]
      }
     ],
     "prompt_number": 12
    },
    {
     "cell_type": "code",
     "collapsed": false,
     "input": [
      "ch = morphology.convex_hull_image(img)\n",
      "\n",
      "imshow(ch);"
     ],
     "language": "python",
     "metadata": {},
     "outputs": [
      {
       "metadata": {},
       "output_type": "display_data",
       "png": "[encoded data removed]",
       "text": [
        "<matplotlib.figure.Figure at 0x10693a550>"
       ]
      }
     ],
     "prompt_number": 13
    },
    {
     "cell_type": "code",
     "collapsed": false,
     "input": [
      "np.where(ch)"
     ],
     "language": "python",
     "metadata": {},
     "outputs": [
      {
       "metadata": {},
       "output_type": "pyout",
       "prompt_number": 14,
       "text": [
        "(array([10, 10, 10, ..., 90, 90, 90]), array([10, 11, 12, ..., 78, 79, 80]))"
       ]
      }
     ],
     "prompt_number": 14
    }
   ],
   "metadata": {}
  }
 ]
}