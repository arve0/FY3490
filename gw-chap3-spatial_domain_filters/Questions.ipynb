{
 "metadata": {
  "name": "",
  "signature": "sha256:d406375e07bbffc81e3412adc88d8976a66c73487529160b9cc48915ebff60e4"
 },
 "nbformat": 3,
 "nbformat_minor": 0,
 "worksheets": [
  {
   "cells": [
    {
     "cell_type": "heading",
     "level": 3,
     "metadata": {},
     "source": [
      "What are the ethic limit when working with medical material? If you enhance an image, and you're \"certain\" information isn't lost, is that OK? When is it not OK?"
     ]
    },
    {
     "cell_type": "markdown",
     "metadata": {},
     "source": [
      "Qualitative vs quatitative. Application vs research."
     ]
    },
    {
     "cell_type": "heading",
     "level": 3,
     "metadata": {},
     "source": [
      "Why are only some levels of intensity pervasive in the images from the HyD sensor? Are we on the boundary to the sensors \"intensity resolution\"? "
     ]
    },
    {
     "cell_type": "code",
     "collapsed": false,
     "input": [
      "%run common.ipynb\n",
      "histshow(img)\n",
      "print np.bincount(img.flatten())[5:47]"
     ],
     "language": "python",
     "metadata": {},
     "outputs": [
      {
       "output_type": "stream",
       "stream": "stdout",
       "text": [
        "Populating the interactive namespace from numpy and matplotlib\n",
        "[     0 398214      0      0      0      0      0      0 468543      0\n",
        "      0      0      0      0    265 511462      0      0      0      0\n",
        "      0 499276      0      0      0      0      0 445217      0      0\n",
        "      0      0      0     95 373055      0      0      0      0     71\n",
        " 296859      0]"
       ]
      },
      {
       "output_type": "stream",
       "stream": "stdout",
       "text": [
        "\n"
       ]
      },
      {
       "metadata": {},
       "output_type": "display_data",
       "png": "[encoded data removed]",
       "text": [
        "<matplotlib.figure.Figure at 0x7ff1700905d0>"
       ]
      }
     ],
     "prompt_number": 16
    },
    {
     "cell_type": "markdown",
     "metadata": {},
     "source": [
      "Use mode \"Counting\"."
     ]
    },
    {
     "cell_type": "heading",
     "level": 3,
     "metadata": {},
     "source": [
      "I couldn't find bit depth on SP8, is it possible to get more than 8 bit depth?"
     ]
    },
    {
     "cell_type": "markdown",
     "metadata": {},
     "source": [
      "Configuration."
     ]
    }
   ],
   "metadata": {}
  }
 ]
}