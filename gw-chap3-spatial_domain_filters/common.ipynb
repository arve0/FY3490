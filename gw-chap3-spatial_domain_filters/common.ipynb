{
 "metadata": {
  "name": "",
  "signature": "sha256:e2e86c793fd35a2c96da2c9ad202bf6dc9793221870a2eb0e43f4fd49827c5d6"
 },
 "nbformat": 3,
 "nbformat_minor": 0,
 "worksheets": [
  {
   "cells": [
    {
     "cell_type": "heading",
     "level": 1,
     "metadata": {},
     "source": [
      "Common / refined code for this chapter"
     ]
    },
    {
     "cell_type": "heading",
     "level": 2,
     "metadata": {},
     "source": [
      "Imports"
     ]
    },
    {
     "cell_type": "code",
     "collapsed": false,
     "input": [
      "from __future__ import division\n",
      "%pylab inline\n",
      "from scipy import ndimage\n",
      "img = imread('MP.tif')[...,0]"
     ],
     "language": "python",
     "metadata": {},
     "outputs": [
      {
       "output_type": "stream",
       "stream": "stdout",
       "text": [
        "Populating the interactive namespace from numpy and matplotlib\n"
       ]
      }
     ],
     "prompt_number": 7
    },
    {
     "cell_type": "heading",
     "level": 3,
     "metadata": {},
     "source": [
      "Widgets"
     ]
    },
    {
     "cell_type": "markdown",
     "metadata": {},
     "source": [
      "Use with:\n",
      "```\n",
      "def f(var1, var2, ...):\n",
      "    # do something with variables\n",
      "\n",
      "interact(f, var1=(start,stop,step), var2=True, var3=3, ...)\n",
      "```\n",
      "See [using interact](../Using Interact.ipynb) for more."
     ]
    },
    {
     "cell_type": "code",
     "collapsed": false,
     "input": [
      "from IPython.html.widgets import interact"
     ],
     "language": "python",
     "metadata": {},
     "outputs": [],
     "prompt_number": 17
    },
    {
     "cell_type": "heading",
     "level": 2,
     "metadata": {},
     "source": [
      "Implemented algoritm and often used functions"
     ]
    },
    {
     "cell_type": "heading",
     "level": 3,
     "metadata": {},
     "source": [
      "Show image shorthand"
     ]
    },
    {
     "cell_type": "code",
     "collapsed": false,
     "input": [
      "def gimshow(img, size=(12,12), title=''):\n",
      "    \"Shows grayscale image.\"\n",
      "    figure(figsize=size)\n",
      "    plt.title(title)\n",
      "    imshow(img, cmap='gray')"
     ],
     "language": "python",
     "metadata": {},
     "outputs": [],
     "prompt_number": 2
    },
    {
     "cell_type": "heading",
     "level": 3,
     "metadata": {},
     "source": [
      "Show histogram shorthand"
     ]
    },
    {
     "cell_type": "code",
     "collapsed": false,
     "input": [
      "def histshow(img):\n",
      "    \"Shows a histogram figure of image.\"\n",
      "    hist = np.bincount(img.flatten())\n",
      "    figure()\n",
      "    title('Levels in image')\n",
      "    xlim((0, hist.size))\n",
      "    plot(hist)\n",
      "showhist = histshow"
     ],
     "language": "python",
     "metadata": {},
     "outputs": [],
     "prompt_number": 1
    },
    {
     "cell_type": "heading",
     "level": 3,
     "metadata": {},
     "source": [
      "Histogram equalization"
     ]
    },
    {
     "cell_type": "markdown",
     "metadata": {},
     "source": [
      "Histogram equalization algoritm, for improving detail in image."
     ]
    },
    {
     "cell_type": "code",
     "collapsed": false,
     "input": [
      "def equalization(img):\n",
      "    \"Return histogram equaliated image.\"\n",
      "    hist = np.bincount(img.flatten())\n",
      "    cdf = (hist / img.size).cumsum()\n",
      "    equal_img = np.zeros(img.shape, dtype=np.uint8)\n",
      "    for level in range(1,256): # exclude zeroes\n",
      "        if hist[level] == 0: continue # short cut\n",
      "        mask = (img == level)\n",
      "        equal_img[mask] = cdf[level] * 255\n",
      "    return equal_img"
     ],
     "language": "python",
     "metadata": {},
     "outputs": [],
     "prompt_number": 4
    },
    {
     "cell_type": "heading",
     "level": 3,
     "metadata": {},
     "source": [
      "Smoothing"
     ]
    },
    {
     "cell_type": "markdown",
     "metadata": {},
     "source": [
      "Function which smooth image with convolution.\n",
      "\n",
      "#### Note about impletation ####\n",
      "Some fractions are impossible to store accurate in binary (and also other number systems). Here is one example:\n",
      "\n",
      "$1/9 = (0.1111...)_{10}$\n",
      "$ = (0.000111000111...)_2$\n",
      "$ = (0.1)_3$\n",
      "\n",
      "Which is the normalization used for 3x3 mask. Since np.convolute is linear, a rounding error will prevail. Therefor we add 1e-12 to all cells accomodate for this, assuming steps (normalize constant) are far above 1e-12."
     ]
    },
    {
     "cell_type": "code",
     "collapsed": false,
     "input": [
      "def smooth(img, size=3):\n",
      "    \"\"\"\n",
      "    Smooths image by convolution. Default mask is 3x3.\n",
      "    \n",
      "    Variables\n",
      "    ---------\n",
      "    img : ndarray\n",
      "        Input image to smooth.\n",
      "    size : int\n",
      "        Size of square smoothing mask. Should be 2n+1.\n",
      "        \n",
      "    Returns\n",
      "    -------\n",
      "    result : ndarray\n",
      "        Smoothed image.\n",
      "    \"\"\"\n",
      "    mask = np.ones((size,size))\n",
      "    mask /= mask.sum() #normalize\n",
      "    return ndimage.convolve(img+1e-12, mask).astype(np.uint8)"
     ],
     "language": "python",
     "metadata": {},
     "outputs": [],
     "prompt_number": 6
    },
    {
     "cell_type": "heading",
     "level": 3,
     "metadata": {},
     "source": [
      "Scale image"
     ]
    },
    {
     "cell_type": "markdown",
     "metadata": {},
     "source": [
      "As defined in 2.6-10 and 2.6-11 in GW page 79. "
     ]
    },
    {
     "cell_type": "code",
     "collapsed": false,
     "input": [
      "def scale(img):\n",
      "    \"Scales intensities in image to span whole image.\"\n",
      "    s = np.copy(img).astype(np.float)\n",
      "    s -= s.min()\n",
      "    s *= 255 / s.max()\n",
      "    return s.astype(np.uint8)"
     ],
     "language": "python",
     "metadata": {},
     "outputs": [],
     "prompt_number": 6
    }
   ],
   "metadata": {}
  }
 ]
}