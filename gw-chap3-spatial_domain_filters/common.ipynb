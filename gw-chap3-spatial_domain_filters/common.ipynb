{
 "metadata": {
  "name": "",
  "signature": "sha256:760efa9ca123429bebd883e9a4df9053137d5de597ce0065be088d0455071206"
 },
 "nbformat": 3,
 "nbformat_minor": 0,
 "worksheets": [
  {
   "cells": [
    {
     "cell_type": "heading",
     "level": 1,
     "metadata": {},
     "source": [
      "Common / refined code for this chapter"
     ]
    },
    {
     "cell_type": "code",
     "collapsed": false,
     "input": [
      "%pylab inline\n",
      "from scipy import ndimage\n",
      "from __future__ import division\n",
      "img = imread('MP.tif')[...,0]\n",
      "\n",
      "def reduce_noise(img, mask=(3,3)):\n",
      "    \"Return convoluted/averaged image. Default mask is 3x3.\"\n",
      "    real_mask = np.ones(mask)/9\n",
      "    return ndimage.convolve(img, real_mask).astype(np.uint8)\n",
      "\n",
      "def gimshow(img, size=(12,12), title=''):\n",
      "    \"Shows grayscale image.\"\n",
      "    figure(figsize=size)\n",
      "    plt.title(title)\n",
      "    imshow(img, cmap='gray')\n",
      "    \n",
      "def equalization(img):\n",
      "    \"Return histogram equaliated image.\"\n",
      "    hist = np.bincount(img.flatten())\n",
      "    cdf = (hist / img.size).cumsum()\n",
      "    equal_img = np.zeros(img.shape, dtype=np.uint8)\n",
      "    for level in range(1,256): # exclude zeroes\n",
      "        if hist[level] == 0: continue # short cut\n",
      "        mask = (img == level)\n",
      "        equal_img[mask] = cdf[level] * 255\n",
      "    return equal_img\n",
      "\n",
      "def showhist(img):\n",
      "    \"Shows a histogram figure of image.\"\n",
      "    hist = np.bincount(img.flatten())\n",
      "    figure()\n",
      "    title('Levels in image')\n",
      "    xlim((0, hist.size))\n",
      "    plot(hist)"
     ],
     "language": "python",
     "metadata": {},
     "outputs": [
      {
       "output_type": "stream",
       "stream": "stdout",
       "text": [
        "Populating the interactive namespace from numpy and matplotlib\n"
       ]
      }
     ],
     "prompt_number": 11
    }
   ],
   "metadata": {}
  }
 ]
}