{
 "metadata": {
  "name": "",
  "signature": "sha256:e9262ce3a220da50270a4fdae6a43a090707af5c917b997dcb1e2f15411085dd"
 },
 "nbformat": 3,
 "nbformat_minor": 0,
 "worksheets": [
  {
   "cells": [
    {
     "cell_type": "code",
     "collapsed": false,
     "input": [
      "%cat fourier_transform.m"
     ],
     "language": "python",
     "metadata": {},
     "outputs": [
      {
       "output_type": "stream",
       "stream": "stdout",
       "text": [
        "image = imread('../sample.tif', 'Index', 2);\r\n",
        "fourier = fftshift(fft2(image));\r\n",
        "rotated_fourier = rot90(fourier);\r\n",
        "F = log(abs(fourier));\r\n",
        "rF = log(abs(rotated_fourier));\r\n",
        "inverse_image = ifft2(ifftshift(rotated_fourier));\r\n",
        "\r\n",
        "figure();\r\n",
        "imshow(image);\r\n",
        "title('Original');\r\n",
        "figure();\r\n",
        "imshow(F, [min(F(:)), max(F(:))]);\r\n",
        "title('FT');\r\n",
        "figure();\r\n",
        "imshow(F, [min(F(:)), max(F(:))]);\r\n",
        "title('Rotated FT');\r\n",
        "figure();\r\n",
        "imshow(uint8(inverse_image));\r\n",
        "title('Rotated with FT');\r\n",
        "figure();\r\n",
        "imshow(rot90(image));\r\n",
        "title('Rotated original');\r\n",
        "\r\n",
        "isequal(uint8(inverse_image), rot90(image))"
       ]
      }
     ],
     "prompt_number": 1
    },
    {
     "cell_type": "code",
     "collapsed": false,
     "input": [
      "%cat fourier_test.m"
     ],
     "language": "python",
     "metadata": {},
     "outputs": [
      {
       "output_type": "stream",
       "stream": "stdout",
       "text": [
        "f = zeros(301,301);\r\n",
        "f(130:170, 1:301) = 1;\r\n",
        "f(100:200, 130:170) = 1;\r\n",
        "figure();\r\n",
        "imshow(f,'InitialMagnification','fit');\r\n",
        "\r\n",
        "F = fft2(f);\r\n",
        "F = fftshift(F);\r\n",
        "rF = rot90(F);\r\n",
        "rrF = rot90(rF,3);\r\n",
        "F2 = log(abs(F));\r\n",
        "F3 = log(abs(rot90(F)));\r\n",
        "figure();\r\n",
        "imshow(F3, [-1,5], 'InitialMagnification', 'fit');\r\n",
        "colormap(jet); \r\n",
        "colorbar;\r\n",
        "figure();\r\n",
        "imshow(F2,[-1 5],'InitialMagnification','fit');\r\n",
        "colormap(jet); \r\n",
        "colorbar;\r\n",
        "\r\n",
        "f = ifft2(ifftshift(rF));\r\n",
        "figure();\r\n",
        "imshow(f, 'InitialMagnification', 'fit');"
       ]
      }
     ],
     "prompt_number": 2
    },
    {
     "cell_type": "heading",
     "level": 2,
     "metadata": {},
     "source": [
      "Circular mask"
     ]
    },
    {
     "cell_type": "raw",
     "metadata": {},
     "source": [
      "[x y] = meshgrid(1:80);\n",
      "C = sqrt((x-40).^2+(y-40).^2)<=20;\n",
      "imshow(C)"
     ]
    }
   ],
   "metadata": {}
  }
 ]
}