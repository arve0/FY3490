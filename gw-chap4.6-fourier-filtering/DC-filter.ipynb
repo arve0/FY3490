{
 "metadata": {
  "name": "",
  "signature": "sha256:7b8544d5f711f9aff0683f64dc69608c16c77623ef71473c3d8e71a56d9e95c8"
 },
 "nbformat": 3,
 "nbformat_minor": 0,
 "worksheets": [
  {
   "cells": [
    {
     "cell_type": "code",
     "collapsed": false,
     "input": [],
     "language": "python",
     "metadata": {},
     "outputs": []
    },
    {
     "cell_type": "code",
     "collapsed": false,
     "input": [
      "%run ../common.ipynb\n"
     ],
     "language": "python",
     "metadata": {},
     "outputs": []
    }
   ],
   "metadata": {}
  }
 ]
}