{
 "metadata": {
  "name": "",
  "signature": "sha256:555074d57a5cb854174882919c58ef790cfdf5bb02cd691ebedb379ab8bdc8e0"
 },
 "nbformat": 3,
 "nbformat_minor": 0,
 "worksheets": [
  {
   "cells": [
    {
     "cell_type": "code",
     "collapsed": false,
     "input": [
      "%run ../common.ipynb\n",
      "image = imread('mp.tif')\n",
      "pngsave('mp_inverted.png', 255-image)"
     ],
     "language": "python",
     "metadata": {},
     "outputs": [
      {
       "output_type": "stream",
       "stream": "stdout",
       "text": [
        "Populating the interactive namespace from numpy and matplotlib\n"
       ]
      }
     ],
     "prompt_number": 1
    }
   ],
   "metadata": {}
  }
 ]
}