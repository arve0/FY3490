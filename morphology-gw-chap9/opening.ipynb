{
 "metadata": {
  "name": "",
  "signature": "sha256:7acf7ecdf39dfd242ee3ff67f018c8ee3a2fccd94f9e415459d84e6d984c732f"
 },
 "nbformat": 3,
 "nbformat_minor": 0,
 "worksheets": [
  {
   "cells": [
    {
     "cell_type": "code",
     "collapsed": false,
     "input": [
      "%run ../common.ipynb"
     ],
     "language": "python",
     "metadata": {},
     "outputs": [
      {
       "output_type": "stream",
       "stream": "stdout",
       "text": [
        "Populating the interactive namespace from numpy and matplotlib\n"
       ]
      }
     ],
     "prompt_number": 1
    },
    {
     "cell_type": "code",
     "collapsed": false,
     "input": [
      "img = imread('../MP.tiff')\n",
      "# make a circle mask\n",
      "r = 30\n",
      "size = 2*r\n",
      "x,y = np.meshgrid(range(size), range(size))\n",
      "R = np.sqrt((x-r)**2+(y-r)**2)\n",
      "mask = np.ones((size,size), bool)\n",
      "mask[R>r] = 0\n",
      "# discard values below 30\n",
      "img[img<10]=0\n",
      "\n",
      "# opening\n",
      "imshow(ndimage.binary_opening(img, structure=mask))"
     ],
     "language": "python",
     "metadata": {},
     "outputs": [
      {
       "metadata": {},
       "output_type": "pyout",
       "prompt_number": 6,
       "text": [
        "(<matplotlib.figure.Figure at 0x1114ee890>,\n",
        " <matplotlib.axes._subplots.AxesSubplot at 0x1114f1710>,\n",
        " <matplotlib.image.AxesImage at 0x11fc87c50>)"
       ]
      },
      {
       "metadata": {},
       "output_type": "display_data",
       "png": "[encoded data removed]",
       "text": [
        "<matplotlib.figure.Figure at 0x1114ee890>"
       ]
      }
     ],
     "prompt_number": 6
    },
    {
     "cell_type": "code",
     "collapsed": false,
     "input": [],
     "language": "python",
     "metadata": {},
     "outputs": []
    }
   ],
   "metadata": {}
  }
 ]
}